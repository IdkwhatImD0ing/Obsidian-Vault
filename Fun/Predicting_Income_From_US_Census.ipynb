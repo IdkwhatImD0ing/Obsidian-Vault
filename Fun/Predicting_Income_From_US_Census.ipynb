{
  "cells": [
    {
      "cell_type": "markdown",
      "metadata": {
        "id": "7k_J3G4VkD3j"
      },
      "source": [
        "# Predicting Income using US Census Data\n",
        "In this lab we will be using part of the [adult dataset](https://archive.ics.uci.edu/ml/datasets/adult) which is a 1994 US census dataset to predict whether a given person has an income greater than $50k a year."
      ]
    },
    {
      "cell_type": "markdown",
      "metadata": {
        "id": "xGNsauLFlsJt"
      },
      "source": [
        "## Imports\n",
        "* **Pandas** is a common data science package allowing for efficient storage of data (see [dataframes](https://pandas.pydata.org/docs/reference/api/pandas.DataFrame.html))\n",
        "* **Matplotlib** is used for plotting data\n",
        "* **Numpy** is an efficient array framework\n",
        "* **Pytorch** library is a ML library made by Meta\n",
        "* **aif360.sklearn** is used to download the adult dataset"
      ]
    },
    {
      "cell_type": "code",
      "execution_count": 1,
      "metadata": {
        "id": "BMmMX91hDVlP"
      },
      "outputs": [
        {
          "ename": "ModuleNotFoundError",
          "evalue": "No module named 'pandas'",
          "output_type": "error",
          "traceback": [
            "\u001b[1;31m---------------------------------------------------------------------------\u001b[0m",
            "\u001b[1;31mModuleNotFoundError\u001b[0m                       Traceback (most recent call last)",
            "Cell \u001b[1;32mIn[1], line 1\u001b[0m\n\u001b[1;32m----> 1\u001b[0m \u001b[39mimport\u001b[39;00m \u001b[39mpandas\u001b[39;00m \u001b[39mas\u001b[39;00m \u001b[39mpd\u001b[39;00m\n\u001b[0;32m      2\u001b[0m \u001b[39mimport\u001b[39;00m \u001b[39mmatplotlib\u001b[39;00m\u001b[39m.\u001b[39;00m\u001b[39mpyplot\u001b[39;00m \u001b[39mas\u001b[39;00m \u001b[39mplt\u001b[39;00m\n\u001b[0;32m      3\u001b[0m \u001b[39mimport\u001b[39;00m \u001b[39mnumpy\u001b[39;00m \u001b[39mas\u001b[39;00m \u001b[39mnp\u001b[39;00m\n",
            "\u001b[1;31mModuleNotFoundError\u001b[0m: No module named 'pandas'"
          ]
        }
      ],
      "source": [
        "import pandas as pd\n",
        "import matplotlib.pyplot as plt\n",
        "import numpy as np\n",
        "import torch\n",
        "import torch.nn as nn\n",
        "from aif360.sklearn.datasets import fetch_adult\n",
        "from sklearn.model_selection import train_test_split"
      ]
    },
    {
      "cell_type": "markdown",
      "metadata": {
        "id": "rVhxKZzrd2-e"
      },
      "source": [
        "# Data Setup\n",
        "We collect the adult dataset using `fetch_adult()` (downloads as **Pandas** *Dataframes*) and break it into **X** (parameters) and **y** (actual income). We fetch twice once to get the data for viewing (ie: Strings rather than numerical data) and the other as numerical data for plugging into our model. We can use `display()` to display these *dataframes*."
      ]
    },
    {
      "cell_type": "code",
      "execution_count": null,
      "metadata": {
        "id": "A4LLlPPACE7W"
      },
      "outputs": [],
      "source": [
        "# For viewing\n",
        "adult_view = fetch_adult()\n",
        "adult_parameters_view = adult_view.X\n",
        "adult_income_view = adult_view.y\n",
        "\n",
        "## Filtering view data to match numerical data\n",
        "columns = [\"age\", \"education\", \"race\", \"sex\", \"capital-gain\", \"capital-loss\",\t\"hours-per-week\"]\n",
        "adult_parameters_view = adult_parameters_view.filter(items=columns)\n",
        "\n",
        "# For use in model\n",
        "adult = fetch_adult(numeric_only=True)\n",
        "adult_parameters = adult.X\n",
        "adult_income = adult.y"
      ]
    },
    {
      "cell_type": "code",
      "execution_count": null,
      "metadata": {
        "colab": {
          "base_uri": "https://localhost:8080/",
          "height": 455
        },
        "id": "JmpzZfjFnyWi",
        "outputId": "a4a78018-72a3-4cd5-d9cd-3812b6596c1d"
      },
      "outputs": [
        {
          "data": {
            "text/html": [
              "\n",
              "  <div id=\"df-1d7d38da-7d40-4289-83d7-4c9faedc1063\">\n",
              "    <div class=\"colab-df-container\">\n",
              "      <div>\n",
              "<style scoped>\n",
              "    .dataframe tbody tr th:only-of-type {\n",
              "        vertical-align: middle;\n",
              "    }\n",
              "\n",
              "    .dataframe tbody tr th {\n",
              "        vertical-align: top;\n",
              "    }\n",
              "\n",
              "    .dataframe thead th {\n",
              "        text-align: right;\n",
              "    }\n",
              "</style>\n",
              "<table border=\"1\" class=\"dataframe\">\n",
              "  <thead>\n",
              "    <tr style=\"text-align: right;\">\n",
              "      <th></th>\n",
              "      <th></th>\n",
              "      <th>age</th>\n",
              "      <th>education</th>\n",
              "      <th>capital-gain</th>\n",
              "      <th>capital-loss</th>\n",
              "      <th>hours-per-week</th>\n",
              "    </tr>\n",
              "    <tr>\n",
              "      <th>race</th>\n",
              "      <th>sex</th>\n",
              "      <th></th>\n",
              "      <th></th>\n",
              "      <th></th>\n",
              "      <th></th>\n",
              "      <th></th>\n",
              "    </tr>\n",
              "  </thead>\n",
              "  <tbody>\n",
              "    <tr>\n",
              "      <th>Non-white</th>\n",
              "      <th>Male</th>\n",
              "      <td>25.0</td>\n",
              "      <td>11th</td>\n",
              "      <td>0.0</td>\n",
              "      <td>0.0</td>\n",
              "      <td>40.0</td>\n",
              "    </tr>\n",
              "    <tr>\n",
              "      <th rowspan=\"2\" valign=\"top\">White</th>\n",
              "      <th>Male</th>\n",
              "      <td>38.0</td>\n",
              "      <td>HS-grad</td>\n",
              "      <td>0.0</td>\n",
              "      <td>0.0</td>\n",
              "      <td>50.0</td>\n",
              "    </tr>\n",
              "    <tr>\n",
              "      <th>Male</th>\n",
              "      <td>28.0</td>\n",
              "      <td>Assoc-acdm</td>\n",
              "      <td>0.0</td>\n",
              "      <td>0.0</td>\n",
              "      <td>40.0</td>\n",
              "    </tr>\n",
              "    <tr>\n",
              "      <th>Non-white</th>\n",
              "      <th>Male</th>\n",
              "      <td>44.0</td>\n",
              "      <td>Some-college</td>\n",
              "      <td>7688.0</td>\n",
              "      <td>0.0</td>\n",
              "      <td>40.0</td>\n",
              "    </tr>\n",
              "    <tr>\n",
              "      <th rowspan=\"7\" valign=\"top\">White</th>\n",
              "      <th>Male</th>\n",
              "      <td>34.0</td>\n",
              "      <td>10th</td>\n",
              "      <td>0.0</td>\n",
              "      <td>0.0</td>\n",
              "      <td>30.0</td>\n",
              "    </tr>\n",
              "    <tr>\n",
              "      <th>...</th>\n",
              "      <td>...</td>\n",
              "      <td>...</td>\n",
              "      <td>...</td>\n",
              "      <td>...</td>\n",
              "      <td>...</td>\n",
              "    </tr>\n",
              "    <tr>\n",
              "      <th>Female</th>\n",
              "      <td>27.0</td>\n",
              "      <td>Assoc-acdm</td>\n",
              "      <td>0.0</td>\n",
              "      <td>0.0</td>\n",
              "      <td>38.0</td>\n",
              "    </tr>\n",
              "    <tr>\n",
              "      <th>Male</th>\n",
              "      <td>40.0</td>\n",
              "      <td>HS-grad</td>\n",
              "      <td>0.0</td>\n",
              "      <td>0.0</td>\n",
              "      <td>40.0</td>\n",
              "    </tr>\n",
              "    <tr>\n",
              "      <th>Female</th>\n",
              "      <td>58.0</td>\n",
              "      <td>HS-grad</td>\n",
              "      <td>0.0</td>\n",
              "      <td>0.0</td>\n",
              "      <td>40.0</td>\n",
              "    </tr>\n",
              "    <tr>\n",
              "      <th>Male</th>\n",
              "      <td>22.0</td>\n",
              "      <td>HS-grad</td>\n",
              "      <td>0.0</td>\n",
              "      <td>0.0</td>\n",
              "      <td>20.0</td>\n",
              "    </tr>\n",
              "    <tr>\n",
              "      <th>Female</th>\n",
              "      <td>52.0</td>\n",
              "      <td>HS-grad</td>\n",
              "      <td>15024.0</td>\n",
              "      <td>0.0</td>\n",
              "      <td>40.0</td>\n",
              "    </tr>\n",
              "  </tbody>\n",
              "</table>\n",
              "<p>45222 rows × 5 columns</p>\n",
              "</div>\n",
              "      <button class=\"colab-df-convert\" onclick=\"convertToInteractive('df-1d7d38da-7d40-4289-83d7-4c9faedc1063')\"\n",
              "              title=\"Convert this dataframe to an interactive table.\"\n",
              "              style=\"display:none;\">\n",
              "        \n",
              "  <svg xmlns=\"http://www.w3.org/2000/svg\" height=\"24px\"viewBox=\"0 0 24 24\"\n",
              "       width=\"24px\">\n",
              "    <path d=\"M0 0h24v24H0V0z\" fill=\"none\"/>\n",
              "    <path d=\"M18.56 5.44l.94 2.06.94-2.06 2.06-.94-2.06-.94-.94-2.06-.94 2.06-2.06.94zm-11 1L8.5 8.5l.94-2.06 2.06-.94-2.06-.94L8.5 2.5l-.94 2.06-2.06.94zm10 10l.94 2.06.94-2.06 2.06-.94-2.06-.94-.94-2.06-.94 2.06-2.06.94z\"/><path d=\"M17.41 7.96l-1.37-1.37c-.4-.4-.92-.59-1.43-.59-.52 0-1.04.2-1.43.59L10.3 9.45l-7.72 7.72c-.78.78-.78 2.05 0 2.83L4 21.41c.39.39.9.59 1.41.59.51 0 1.02-.2 1.41-.59l7.78-7.78 2.81-2.81c.8-.78.8-2.07 0-2.86zM5.41 20L4 18.59l7.72-7.72 1.47 1.35L5.41 20z\"/>\n",
              "  </svg>\n",
              "      </button>\n",
              "      \n",
              "  <style>\n",
              "    .colab-df-container {\n",
              "      display:flex;\n",
              "      flex-wrap:wrap;\n",
              "      gap: 12px;\n",
              "    }\n",
              "\n",
              "    .colab-df-convert {\n",
              "      background-color: #E8F0FE;\n",
              "      border: none;\n",
              "      border-radius: 50%;\n",
              "      cursor: pointer;\n",
              "      display: none;\n",
              "      fill: #1967D2;\n",
              "      height: 32px;\n",
              "      padding: 0 0 0 0;\n",
              "      width: 32px;\n",
              "    }\n",
              "\n",
              "    .colab-df-convert:hover {\n",
              "      background-color: #E2EBFA;\n",
              "      box-shadow: 0px 1px 2px rgba(60, 64, 67, 0.3), 0px 1px 3px 1px rgba(60, 64, 67, 0.15);\n",
              "      fill: #174EA6;\n",
              "    }\n",
              "\n",
              "    [theme=dark] .colab-df-convert {\n",
              "      background-color: #3B4455;\n",
              "      fill: #D2E3FC;\n",
              "    }\n",
              "\n",
              "    [theme=dark] .colab-df-convert:hover {\n",
              "      background-color: #434B5C;\n",
              "      box-shadow: 0px 1px 3px 1px rgba(0, 0, 0, 0.15);\n",
              "      filter: drop-shadow(0px 1px 2px rgba(0, 0, 0, 0.3));\n",
              "      fill: #FFFFFF;\n",
              "    }\n",
              "  </style>\n",
              "\n",
              "      <script>\n",
              "        const buttonEl =\n",
              "          document.querySelector('#df-1d7d38da-7d40-4289-83d7-4c9faedc1063 button.colab-df-convert');\n",
              "        buttonEl.style.display =\n",
              "          google.colab.kernel.accessAllowed ? 'block' : 'none';\n",
              "\n",
              "        async function convertToInteractive(key) {\n",
              "          const element = document.querySelector('#df-1d7d38da-7d40-4289-83d7-4c9faedc1063');\n",
              "          const dataTable =\n",
              "            await google.colab.kernel.invokeFunction('convertToInteractive',\n",
              "                                                     [key], {});\n",
              "          if (!dataTable) return;\n",
              "\n",
              "          const docLinkHtml = 'Like what you see? Visit the ' +\n",
              "            '<a target=\"_blank\" href=https://colab.research.google.com/notebooks/data_table.ipynb>data table notebook</a>'\n",
              "            + ' to learn more about interactive tables.';\n",
              "          element.innerHTML = '';\n",
              "          dataTable['output_type'] = 'display_data';\n",
              "          await google.colab.output.renderOutput(dataTable, element);\n",
              "          const docLink = document.createElement('div');\n",
              "          docLink.innerHTML = docLinkHtml;\n",
              "          element.appendChild(docLink);\n",
              "        }\n",
              "      </script>\n",
              "    </div>\n",
              "  </div>\n",
              "  "
            ],
            "text/plain": [
              "                   age     education  capital-gain  capital-loss  \\\n",
              "race      sex                                                      \n",
              "Non-white Male    25.0          11th           0.0           0.0   \n",
              "White     Male    38.0       HS-grad           0.0           0.0   \n",
              "          Male    28.0    Assoc-acdm           0.0           0.0   \n",
              "Non-white Male    44.0  Some-college        7688.0           0.0   \n",
              "White     Male    34.0          10th           0.0           0.0   \n",
              "...                ...           ...           ...           ...   \n",
              "          Female  27.0    Assoc-acdm           0.0           0.0   \n",
              "          Male    40.0       HS-grad           0.0           0.0   \n",
              "          Female  58.0       HS-grad           0.0           0.0   \n",
              "          Male    22.0       HS-grad           0.0           0.0   \n",
              "          Female  52.0       HS-grad       15024.0           0.0   \n",
              "\n",
              "                  hours-per-week  \n",
              "race      sex                     \n",
              "Non-white Male              40.0  \n",
              "White     Male              50.0  \n",
              "          Male              40.0  \n",
              "Non-white Male              40.0  \n",
              "White     Male              30.0  \n",
              "...                          ...  \n",
              "          Female            38.0  \n",
              "          Male              40.0  \n",
              "          Female            40.0  \n",
              "          Male              20.0  \n",
              "          Female            40.0  \n",
              "\n",
              "[45222 rows x 5 columns]"
            ]
          },
          "metadata": {},
          "output_type": "display_data"
        }
      ],
      "source": [
        "display(adult_parameters_view)"
      ]
    },
    {
      "cell_type": "code",
      "execution_count": null,
      "metadata": {
        "colab": {
          "base_uri": "https://localhost:8080/",
          "height": 455
        },
        "id": "hwSEZEZioOKA",
        "outputId": "dbf1dda5-2a06-409f-ab81-0cd3c9b733d0"
      },
      "outputs": [
        {
          "data": {
            "text/html": [
              "\n",
              "  <div id=\"df-18768960-1ebc-42cb-9fad-7e59384d0002\">\n",
              "    <div class=\"colab-df-container\">\n",
              "      <div>\n",
              "<style scoped>\n",
              "    .dataframe tbody tr th:only-of-type {\n",
              "        vertical-align: middle;\n",
              "    }\n",
              "\n",
              "    .dataframe tbody tr th {\n",
              "        vertical-align: top;\n",
              "    }\n",
              "\n",
              "    .dataframe thead th {\n",
              "        text-align: right;\n",
              "    }\n",
              "</style>\n",
              "<table border=\"1\" class=\"dataframe\">\n",
              "  <thead>\n",
              "    <tr style=\"text-align: right;\">\n",
              "      <th></th>\n",
              "      <th></th>\n",
              "      <th>age</th>\n",
              "      <th>education-num</th>\n",
              "      <th>race</th>\n",
              "      <th>sex</th>\n",
              "      <th>capital-gain</th>\n",
              "      <th>capital-loss</th>\n",
              "      <th>hours-per-week</th>\n",
              "    </tr>\n",
              "    <tr>\n",
              "      <th>race</th>\n",
              "      <th>sex</th>\n",
              "      <th></th>\n",
              "      <th></th>\n",
              "      <th></th>\n",
              "      <th></th>\n",
              "      <th></th>\n",
              "      <th></th>\n",
              "      <th></th>\n",
              "    </tr>\n",
              "  </thead>\n",
              "  <tbody>\n",
              "    <tr>\n",
              "      <th>0</th>\n",
              "      <th>1</th>\n",
              "      <td>25.0</td>\n",
              "      <td>7.0</td>\n",
              "      <td>0</td>\n",
              "      <td>1</td>\n",
              "      <td>0.0</td>\n",
              "      <td>0.0</td>\n",
              "      <td>40.0</td>\n",
              "    </tr>\n",
              "    <tr>\n",
              "      <th rowspan=\"2\" valign=\"top\">1</th>\n",
              "      <th>1</th>\n",
              "      <td>38.0</td>\n",
              "      <td>9.0</td>\n",
              "      <td>1</td>\n",
              "      <td>1</td>\n",
              "      <td>0.0</td>\n",
              "      <td>0.0</td>\n",
              "      <td>50.0</td>\n",
              "    </tr>\n",
              "    <tr>\n",
              "      <th>1</th>\n",
              "      <td>28.0</td>\n",
              "      <td>12.0</td>\n",
              "      <td>1</td>\n",
              "      <td>1</td>\n",
              "      <td>0.0</td>\n",
              "      <td>0.0</td>\n",
              "      <td>40.0</td>\n",
              "    </tr>\n",
              "    <tr>\n",
              "      <th>0</th>\n",
              "      <th>1</th>\n",
              "      <td>44.0</td>\n",
              "      <td>10.0</td>\n",
              "      <td>0</td>\n",
              "      <td>1</td>\n",
              "      <td>7688.0</td>\n",
              "      <td>0.0</td>\n",
              "      <td>40.0</td>\n",
              "    </tr>\n",
              "    <tr>\n",
              "      <th rowspan=\"7\" valign=\"top\">1</th>\n",
              "      <th>0</th>\n",
              "      <td>18.0</td>\n",
              "      <td>10.0</td>\n",
              "      <td>1</td>\n",
              "      <td>0</td>\n",
              "      <td>0.0</td>\n",
              "      <td>0.0</td>\n",
              "      <td>30.0</td>\n",
              "    </tr>\n",
              "    <tr>\n",
              "      <th>...</th>\n",
              "      <td>...</td>\n",
              "      <td>...</td>\n",
              "      <td>...</td>\n",
              "      <td>...</td>\n",
              "      <td>...</td>\n",
              "      <td>...</td>\n",
              "      <td>...</td>\n",
              "    </tr>\n",
              "    <tr>\n",
              "      <th>0</th>\n",
              "      <td>27.0</td>\n",
              "      <td>12.0</td>\n",
              "      <td>1</td>\n",
              "      <td>0</td>\n",
              "      <td>0.0</td>\n",
              "      <td>0.0</td>\n",
              "      <td>38.0</td>\n",
              "    </tr>\n",
              "    <tr>\n",
              "      <th>1</th>\n",
              "      <td>40.0</td>\n",
              "      <td>9.0</td>\n",
              "      <td>1</td>\n",
              "      <td>1</td>\n",
              "      <td>0.0</td>\n",
              "      <td>0.0</td>\n",
              "      <td>40.0</td>\n",
              "    </tr>\n",
              "    <tr>\n",
              "      <th>0</th>\n",
              "      <td>58.0</td>\n",
              "      <td>9.0</td>\n",
              "      <td>1</td>\n",
              "      <td>0</td>\n",
              "      <td>0.0</td>\n",
              "      <td>0.0</td>\n",
              "      <td>40.0</td>\n",
              "    </tr>\n",
              "    <tr>\n",
              "      <th>1</th>\n",
              "      <td>22.0</td>\n",
              "      <td>9.0</td>\n",
              "      <td>1</td>\n",
              "      <td>1</td>\n",
              "      <td>0.0</td>\n",
              "      <td>0.0</td>\n",
              "      <td>20.0</td>\n",
              "    </tr>\n",
              "    <tr>\n",
              "      <th>0</th>\n",
              "      <td>52.0</td>\n",
              "      <td>9.0</td>\n",
              "      <td>1</td>\n",
              "      <td>0</td>\n",
              "      <td>15024.0</td>\n",
              "      <td>0.0</td>\n",
              "      <td>40.0</td>\n",
              "    </tr>\n",
              "  </tbody>\n",
              "</table>\n",
              "<p>48842 rows × 7 columns</p>\n",
              "</div>\n",
              "      <button class=\"colab-df-convert\" onclick=\"convertToInteractive('df-18768960-1ebc-42cb-9fad-7e59384d0002')\"\n",
              "              title=\"Convert this dataframe to an interactive table.\"\n",
              "              style=\"display:none;\">\n",
              "        \n",
              "  <svg xmlns=\"http://www.w3.org/2000/svg\" height=\"24px\"viewBox=\"0 0 24 24\"\n",
              "       width=\"24px\">\n",
              "    <path d=\"M0 0h24v24H0V0z\" fill=\"none\"/>\n",
              "    <path d=\"M18.56 5.44l.94 2.06.94-2.06 2.06-.94-2.06-.94-.94-2.06-.94 2.06-2.06.94zm-11 1L8.5 8.5l.94-2.06 2.06-.94-2.06-.94L8.5 2.5l-.94 2.06-2.06.94zm10 10l.94 2.06.94-2.06 2.06-.94-2.06-.94-.94-2.06-.94 2.06-2.06.94z\"/><path d=\"M17.41 7.96l-1.37-1.37c-.4-.4-.92-.59-1.43-.59-.52 0-1.04.2-1.43.59L10.3 9.45l-7.72 7.72c-.78.78-.78 2.05 0 2.83L4 21.41c.39.39.9.59 1.41.59.51 0 1.02-.2 1.41-.59l7.78-7.78 2.81-2.81c.8-.78.8-2.07 0-2.86zM5.41 20L4 18.59l7.72-7.72 1.47 1.35L5.41 20z\"/>\n",
              "  </svg>\n",
              "      </button>\n",
              "      \n",
              "  <style>\n",
              "    .colab-df-container {\n",
              "      display:flex;\n",
              "      flex-wrap:wrap;\n",
              "      gap: 12px;\n",
              "    }\n",
              "\n",
              "    .colab-df-convert {\n",
              "      background-color: #E8F0FE;\n",
              "      border: none;\n",
              "      border-radius: 50%;\n",
              "      cursor: pointer;\n",
              "      display: none;\n",
              "      fill: #1967D2;\n",
              "      height: 32px;\n",
              "      padding: 0 0 0 0;\n",
              "      width: 32px;\n",
              "    }\n",
              "\n",
              "    .colab-df-convert:hover {\n",
              "      background-color: #E2EBFA;\n",
              "      box-shadow: 0px 1px 2px rgba(60, 64, 67, 0.3), 0px 1px 3px 1px rgba(60, 64, 67, 0.15);\n",
              "      fill: #174EA6;\n",
              "    }\n",
              "\n",
              "    [theme=dark] .colab-df-convert {\n",
              "      background-color: #3B4455;\n",
              "      fill: #D2E3FC;\n",
              "    }\n",
              "\n",
              "    [theme=dark] .colab-df-convert:hover {\n",
              "      background-color: #434B5C;\n",
              "      box-shadow: 0px 1px 3px 1px rgba(0, 0, 0, 0.15);\n",
              "      filter: drop-shadow(0px 1px 2px rgba(0, 0, 0, 0.3));\n",
              "      fill: #FFFFFF;\n",
              "    }\n",
              "  </style>\n",
              "\n",
              "      <script>\n",
              "        const buttonEl =\n",
              "          document.querySelector('#df-18768960-1ebc-42cb-9fad-7e59384d0002 button.colab-df-convert');\n",
              "        buttonEl.style.display =\n",
              "          google.colab.kernel.accessAllowed ? 'block' : 'none';\n",
              "\n",
              "        async function convertToInteractive(key) {\n",
              "          const element = document.querySelector('#df-18768960-1ebc-42cb-9fad-7e59384d0002');\n",
              "          const dataTable =\n",
              "            await google.colab.kernel.invokeFunction('convertToInteractive',\n",
              "                                                     [key], {});\n",
              "          if (!dataTable) return;\n",
              "\n",
              "          const docLinkHtml = 'Like what you see? Visit the ' +\n",
              "            '<a target=\"_blank\" href=https://colab.research.google.com/notebooks/data_table.ipynb>data table notebook</a>'\n",
              "            + ' to learn more about interactive tables.';\n",
              "          element.innerHTML = '';\n",
              "          dataTable['output_type'] = 'display_data';\n",
              "          await google.colab.output.renderOutput(dataTable, element);\n",
              "          const docLink = document.createElement('div');\n",
              "          docLink.innerHTML = docLinkHtml;\n",
              "          element.appendChild(docLink);\n",
              "        }\n",
              "      </script>\n",
              "    </div>\n",
              "  </div>\n",
              "  "
            ],
            "text/plain": [
              "           age  education-num  race  sex  capital-gain  capital-loss  \\\n",
              "race sex                                                               \n",
              "0    1    25.0            7.0     0    1           0.0           0.0   \n",
              "1    1    38.0            9.0     1    1           0.0           0.0   \n",
              "     1    28.0           12.0     1    1           0.0           0.0   \n",
              "0    1    44.0           10.0     0    1        7688.0           0.0   \n",
              "1    0    18.0           10.0     1    0           0.0           0.0   \n",
              "...        ...            ...   ...  ...           ...           ...   \n",
              "     0    27.0           12.0     1    0           0.0           0.0   \n",
              "     1    40.0            9.0     1    1           0.0           0.0   \n",
              "     0    58.0            9.0     1    0           0.0           0.0   \n",
              "     1    22.0            9.0     1    1           0.0           0.0   \n",
              "     0    52.0            9.0     1    0       15024.0           0.0   \n",
              "\n",
              "          hours-per-week  \n",
              "race sex                  \n",
              "0    1              40.0  \n",
              "1    1              50.0  \n",
              "     1              40.0  \n",
              "0    1              40.0  \n",
              "1    0              30.0  \n",
              "...                  ...  \n",
              "     0              38.0  \n",
              "     1              40.0  \n",
              "     0              40.0  \n",
              "     1              20.0  \n",
              "     0              40.0  \n",
              "\n",
              "[48842 rows x 7 columns]"
            ]
          },
          "metadata": {},
          "output_type": "display_data"
        }
      ],
      "source": [
        "display(adult_parameters)"
      ]
    },
    {
      "cell_type": "markdown",
      "metadata": {
        "id": "YoEfQngGqEZK"
      },
      "source": [
        "## Cleaning up data\n",
        "Here we prepare our data for our predictive model. To do so we need to convert our *dataframes* to **Pytorch** *tensors*. Additionally we will need to cast them as floats (all data needs to be of same type)."
      ]
    },
    {
      "cell_type": "code",
      "execution_count": null,
      "metadata": {
        "id": "5-8PBGhMIPMC"
      },
      "outputs": [],
      "source": [
        "parameters = torch.tensor(adult_parameters.values)\n",
        "parameters = parameters.to(torch.float32)\n",
        "\n",
        "income = torch.tensor(adult_income.values)\n",
        "income = income.to(torch.float32)\n",
        "\n",
        "# This last step is simply to get the dimensions of income to be the same as parameters\n",
        "income = income[:, None]"
      ]
    },
    {
      "cell_type": "markdown",
      "metadata": {
        "id": "mLbi6q1_r7yV"
      },
      "source": [
        "## Splitting Testing and Training Data\n",
        "We lastly want to break up our data into training and testing data. However, if we just split the data without any preprocessing we'll get a biased model. This is because the vast majority of the people in the dataset make less than the $50k threshold, resulting in our model learning to always predict less than 50k. Try commenting out the preprocessing and seeing it for yourself. "
      ]
    },
    {
      "cell_type": "code",
      "execution_count": null,
      "metadata": {
        "id": "KN2EgX71UInh"
      },
      "outputs": [],
      "source": [
        "# Train test split\n",
        "train_X, test_X, train_y, test_y = train_test_split(parameters, income, test_size=0.33, random_state=42)"
      ]
    },
    {
      "cell_type": "code",
      "execution_count": null,
      "metadata": {
        "id": "PjAoVXrssLed"
      },
      "outputs": [],
      "source": [
        "# Preprocessing\n",
        "indicies_zero = (train_y == 0).nonzero().numpy() # index of all people making <50k\n",
        "indicies_nonzero = train_y.nonzero().numpy() # index of all people making >50k\n",
        "ones = len(indicies_nonzero) # number of people making >50k\n",
        "\n",
        "# creates a combined list of index of people making >50k and equal number of people making <50k\n",
        "combined_indicies = np.concatenate((indicies_nonzero[:,0],indicies_zero[:ones,0]), axis=0) \n",
        "combined_indicies = np.sort(combined_indicies)\n",
        "\n",
        "# filtering training data so there are equal number of >50k and <50k data points\n",
        "train_X = torch.index_select(train_X, 0, torch.from_numpy(combined_indicies))\n",
        "train_y = torch.index_select(train_y, 0, torch.from_numpy(combined_indicies))"
      ]
    },
    {
      "cell_type": "markdown",
      "metadata": {
        "id": "43EkyuNdeAah"
      },
      "source": [
        "# Neural Network\n",
        "Now we can begin to build our Neural Network model!\n",
        "To build a basic neural network we want to start with [`nn.Sequential()`](https://pytorch.org/docs/stable/generated/torch.nn.Sequential.html#torch.nn.Sequential). This will tell Pytorch we are building a Neural Network with select layers in the specified order. We can add which **layers**/**activation functions** we want to use inside `nn.Sequential()`.\n",
        "\n",
        "This should look something like:\n",
        "```\n",
        "model = nn.Sequential(\n",
        "  Layer1,\n",
        "  Activation_Function1,\n",
        "  Layer2,\n",
        "  Activation_Function2,\n",
        "  ...\n",
        "  )\n",
        "```\n",
        "There are many different **Layers** you can use but the one covered in the presentation is [`nn.Linear()`](https://pytorch.org/docs/stable/generated/torch.nn.Linear.html#torch.nn.Linear). This simple layer takes in 2 parameters: the number of input neurons and number of output neurons. Start off with using `nn.Linear()`, but also try other layers found [here](https://pytorch.org/docs/stable/nn.html) such as convolution or pooling layers. \n",
        "\n",
        "**Activation Functions** like [`nn.ReLU()`](https://pytorch.org/docs/stable/generated/torch.nn.ReLU.html#torch.nn.ReLU) and [`nn.Sigmoid()`](https://pytorch.org/docs/stable/generated/torch.nn.Sigmoid.html#torch.nn.Sigmoid) are very common but you can find the whole list [here](https://pytorch.org/docs/stable/nn.html#non-linear-activations-weighted-sum-nonlinearity) and [here](https://pytorch.org/docs/stable/nn.html#non-linear-activations-other)\n",
        "\n",
        "Don't be afraid to try out new things even if you don't fully understand them. The best way to learn is to get hands on experience!"
      ]
    },
    {
      "cell_type": "code",
      "execution_count": null,
      "metadata": {
        "id": "Id15Se64KBHG"
      },
      "outputs": [],
      "source": [
        "model = # CODE HERE\n",
        "print(model)"
      ]
    },
    {
      "cell_type": "markdown",
      "metadata": {
        "id": "SQiLb8yE3a77"
      },
      "source": [
        "## Loss Function and Optimizer\n",
        "Here we want to define what our **loss function** is. Here we would suggest using [`nn.MSELoss()`](https://pytorch.org/docs/stable/generated/torch.nn.MSELoss.html#torch.nn.MSELoss) which is the mean squared loss. Using MSE will define loss as the average of the difference between predicted and actual output squared.\n",
        "$\\frac{1}{n}$ $\\sum_{i=1}^{n} (actual-predicted)^2$ You can find other loss functions [here](https://pytorch.org/docs/stable/nn.html#loss-functions)\n",
        "\n",
        "**Optimizers** are the algorithms used to train or optimize weights and biases. Different algorithms have different strengths and weaknesses but the most understandable would be [`torch.optim.SGD()`](https://pytorch.org/docs/stable/generated/torch.optim.SGD.html#torch.optim.SGD). SGD or Stochastic Gradient Descent is the method that uses the derivative/slope (gradient) to identify how to modify each weight to decrease loss. SGD takes [`model.parameters()`](https://pytorch.org/docs/stable/optim.html#algorithms) and learning rate (decimal typically between `0.1` and `0.001`) as parameters.\n",
        "\n",
        "![Gradient Descent](https://egallic.fr/Enseignement/ML/ECB/book/figs/example_two_dim/descent_2D_sphere.gif)\n",
        "\n",
        "You can find other Optimizers [here](https://pytorch.org/docs/stable/optim.html#algorithms)"
      ]
    },
    {
      "cell_type": "code",
      "execution_count": null,
      "metadata": {
        "id": "bPrINIfTKLck"
      },
      "outputs": [],
      "source": [
        "loss_function = # CODE HERE\n",
        "learning_rate = # CODE HERE\n",
        "optimizer = # CODE HERE"
      ]
    },
    {
      "cell_type": "markdown",
      "metadata": {
        "id": "vhyaKG8M9TvQ"
      },
      "source": [
        "## Training\n",
        "We can now start training our Neural Network and optimizing for the best weights/biases. In addition to training our model we also want to be able to view how our model performs, so we will also **save our loss at each epoch** to plot later. "
      ]
    },
    {
      "cell_type": "markdown",
      "metadata": {
        "id": "T5tH1VwxBga7"
      },
      "source": [
        "To begin we must **loop** through a set of training steps; each set of steps is known as an epoch. The more epochs we train with the more optimized our NN will become, however after a certain number of epochs that rate decreases and becomes insubstantial.\n",
        "\n",
        "Within each epoch we must do 5 things:\n",
        "1. **Run the model** on our Training input data to get the models prediction:\n",
        "  `model(data)` will *return the predictions* for each input as a tensor (specialized array).\n",
        "2. **Calculate the loss** using the loss function defined previously. Using the *predicted values* and *actual values* as parameters for the loss function will *return the loss*\n",
        "3. **Reset the gradient** with `model.zero_grad()`. The gradient is used to optimize the weights and if we don't reset it, then the gradient will accumulate with each epoch\n",
        "4. **Backward propagation** will calculate the gradient from the loss from step 2. Calling `loss.backward()` will automatically store the model's gradient to be used in the next step\n",
        "5. **Stepping the weights** will update the weights with the gradient calculated through backward propagation. To do so simply call `optimizer.step()` with the optimizer defined in the previous cell\n",
        "\n",
        "View documentation [here](https://pytorch.org/tutorials/beginner/introyt/trainingyt.html#the-training-loop)"
      ]
    },
    {
      "cell_type": "code",
      "execution_count": null,
      "metadata": {
        "id": "TH9OgRBJKUi0"
      },
      "outputs": [],
      "source": [
        "losses = []\n",
        "epochs = # CODE HERE\n",
        "for epoch in range(epochs):\n",
        "  # CODE HERE\n",
        "  loss = # CODE HERE\n",
        "  losses.append(loss.item())\n",
        "\n",
        "  # CODE HERE\n",
        "  # CODE HERE\n",
        "  # CODE HERE"
      ]
    },
    {
      "cell_type": "markdown",
      "metadata": {
        "id": "V1TcG9ccBoF0"
      },
      "source": [
        "## Plotting Loss over Epochs"
      ]
    },
    {
      "cell_type": "code",
      "execution_count": null,
      "metadata": {
        "id": "0M_C5hCcKkxI"
      },
      "outputs": [],
      "source": [
        "plt.plot(losses)\n",
        "plt.ylabel('loss')\n",
        "plt.xlabel('epoch')\n",
        "plt.title(\"Learning rate %f\"%(learning_rate))\n",
        "plt.show()"
      ]
    },
    {
      "cell_type": "markdown",
      "metadata": {
        "id": "cw70iSfOB1Q5"
      },
      "source": [
        "# Testing and Running the Neural Network\n",
        "The final step is to **test and run** the trained neural network. We can now run the neural network the same way as we trained it to get the predicted values for the test data (rather than using training data). To evaluate our model, we can use the same loss function to find our final loss. "
      ]
    },
    {
      "cell_type": "code",
      "execution_count": null,
      "metadata": {
        "id": "IVsNmsDEaWF3"
      },
      "outputs": [],
      "source": [
        "pred_y = # CODE HERE\n",
        "loss = # CODE HERE\n",
        "print(loss.item())\n"
      ]
    },
    {
      "cell_type": "markdown",
      "metadata": {
        "id": "i8JEuAHoCbyg"
      },
      "source": [
        "## Displaying the predictions with the parameters"
      ]
    },
    {
      "cell_type": "code",
      "execution_count": null,
      "metadata": {
        "id": "TkWYSxzcuS8D"
      },
      "outputs": [],
      "source": [
        "compiled_results = test_X.detach().numpy()\n",
        "compiled_results = np.append(compiled_results, test_y.detach().numpy(), axis=1)\n",
        "compiled_results = np.append(compiled_results, pred_y.detach().numpy(), axis=1)\n",
        "compiled_results = np.append(compiled_results, np.rint(pred_y.detach().numpy()), axis=1)\n",
        "compiled_results = pd.DataFrame(compiled_results, columns=[\"age\", \"education-num\", \"race\",\t\"sex\", \"capital-gain\", \"capital-loss\",\t\"hours-per-week\", \"actual_income\", \"predicted_income\", \"rounded_prediction\"])\n",
        "display(compiled_results)"
      ]
    },
    {
      "cell_type": "markdown",
      "metadata": {
        "id": "r-Gz8jipCkno"
      },
      "source": [
        "# Congrats!\n",
        "You just finished training and running your first (or not your first) Neural Network. Now go back and start tweeking different settings and play around using different layers, activation functions, optimizers, and more.\n",
        "\n",
        "### Challenge\n",
        "If you finish early, go look at the results and see if you notice any patterns. Can you identify false positives or true negative? How may this cause issues? Now see what you can do to either A. decrease overall loss and B. decrease false positive/true negatives. The optimization of both A and B is the center of Responsible Artificial Intelligence (and the existance of protected classes/anti-discriminatory practices...)"
      ]
    }
  ],
  "metadata": {
    "colab": {
      "provenance": [],
      "toc_visible": true
    },
    "kernelspec": {
      "display_name": "Python 3",
      "language": "python",
      "name": "python3"
    },
    "language_info": {
      "codemirror_mode": {
        "name": "ipython",
        "version": 3
      },
      "file_extension": ".py",
      "mimetype": "text/x-python",
      "name": "python",
      "nbconvert_exporter": "python",
      "pygments_lexer": "ipython3",
      "version": "3.11.0"
    },
    "vscode": {
      "interpreter": {
        "hash": "5238573367df39f7286bb46f9ff5f08f63a01a80960060ce41e3c79b190280fa"
      }
    }
  },
  "nbformat": 4,
  "nbformat_minor": 0
}
